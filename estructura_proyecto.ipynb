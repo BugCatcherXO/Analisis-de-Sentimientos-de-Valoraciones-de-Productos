{
 "cells": [
  {
   "cell_type": "markdown",
   "id": "b615e649",
   "metadata": {},
   "source": [
    "# Proyecto 2 — Analizador de Sentimientos y Aspectos (estadístico, sin DL)\n",
    "\n",
    "Sistema para clasificar sentimiento (positivo, negativo, neutral) y extraer aspectos frecuentes usando **tokenización, análisis estadístico y WordNet**\n",
    "\n",
    "---\n",
    "\n",
    "## Dataset\n",
    "\n",
    "- Base: **Sentiment140** (recorte propio de **200 000** filas, texto ya **limpio de emoticonos**).\n",
    "- Etiquetas originales (solo para evaluación final):\n",
    "\n",
    "| Columna | Descripción |\n",
    "|---|---|\n",
    "| `target` | 0 = negativo, 2 = neutral, 4 = positivo |\n",
    "| `ids` | id del tweet |\n",
    "| `date` | fecha |\n",
    "| `flag` | query usada (o `NO_QUERY`) |\n",
    "| `user` | usuario |\n",
    "| `text` | contenido del tweet |\n",
    "\n",
    "---\n",
    "\n",
    "## Estructura mínima del repositorio\n",
    "\n",
    "````text\n",
    "./datasets/                  # df_200k.csv\n",
    "main.py                      # EDA → prepro → léxico → scoring → aspectos → evaluación\n",
    "preprocess.py                # limpieza y tokenización ligera\n",
    "lexicon_aspects.py           # léxico (semillas), scoring, aspectos\n",
    "evaluate.py                  # métricas, cobertura, gráficos simples\n",
    "requirements.txt             # dependencias\n"
   ]
  },
  {
   "cell_type": "markdown",
   "id": "34f5481c",
   "metadata": {},
   "source": []
  }
 ],
 "metadata": {
  "language_info": {
   "name": "python"
  }
 },
 "nbformat": 4,
 "nbformat_minor": 5
}
