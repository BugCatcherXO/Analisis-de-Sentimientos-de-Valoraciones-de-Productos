{
  "cells": [
    {
      "cell_type": "markdown",
      "metadata": {},
      "source": [
        "# Análisis de Sentimientos Binario por Reglas (Versión 2)\n",
        "**Sin ML, sin deep learning, sin modelos preentrenados**.  \n",
        "Usa **tokenización**, **reglas lingüísticas**, **WordNet/SentiWordNet** y **estadística simple**.  \n",
        "Optimizado para datasets grandes (200k+) con **caché**, **reglas de contraste (\"but\")**, **emojis/emoticonos**, y **descargas NLTK robustas**.\n",
        "\n",
        "**Checklist de aceptación**\n",
        "- [ ] Se instalan/importan librerías necesarias automáticamente si faltan.\n",
        "- [ ] Descargas NLTK sólo si los recursos no están presentes.\n",
        "- [ ] Preprocesado conserva señales de sentimiento y maneja URLs, menciones, emojis y emoticonos.\n",
        "- [ ] Scoring por reglas + SentiWordNet con **memorización (cache)**.\n",
        "- [ ] Negación con ventana, **reset por puntuación**, e intensificadores/atenuadores.\n",
        "- [ ] Regla de **contraste con 'but/however/though'** (pre: ×0.5, post: ×1.5).\n",
        "- [ ] Calibración de umbral por **balanced accuracy** en una muestra.\n",
        "- [ ] Evaluación con métricas manuales + gráficos opcionales.\n",
        "- [ ] Exportación a CSV."
      ]
    },
    {
      "cell_type": "markdown",
      "metadata": {},
      "source": [
        "## 1. Instalación y configuración inicial"
      ]
    },
    {
      "cell_type": "code",
      "execution_count": 1,
      "metadata": {},
      "outputs": [
        {
          "name": "stdout",
          "output_type": "stream",
          "text": [
            "✓ Dependencias listas\n"
          ]
        }
      ],
      "source": [
        "# Instalación de dependencias mínimas si no están presentes\n",
        "import subprocess, sys, importlib\n",
        "\n",
        "def ensure(package, import_name=None):\n",
        "    name = import_name or package\n",
        "    try:\n",
        "        importlib.import_module(name)\n",
        "        return True\n",
        "    except ImportError:\n",
        "        subprocess.check_call([sys.executable, \"-m\", \"pip\", \"install\", \"-q\", package])\n",
        "        importlib.invalidate_caches()\n",
        "        importlib.import_module(name)\n",
        "        return True\n",
        "\n",
        "for pkg, imp in [\n",
        "    (\"nltk\", \"nltk\"),\n",
        "    (\"pandas\", \"pandas\"),\n",
        "    (\"numpy\", \"numpy\"),\n",
        "    (\"tqdm\", \"tqdm\"),\n",
        "    (\"emoji\", \"emoji\"),\n",
        "    (\"matplotlib\", \"matplotlib\"),\n",
        "]:\n",
        "    ensure(pkg, imp)\n",
        "\n",
        "print(\"✓ Dependencias listas\")"
      ]
    },
    {
      "cell_type": "markdown",
      "metadata": {},
      "source": [
        "## 2. Descarga de recursos NLTK (robusta y condicional)"
      ]
    },
    {
      "cell_type": "code",
      "execution_count": 2,
      "metadata": {},
      "outputs": [
        {
          "name": "stdout",
          "output_type": "stream",
          "text": [
            "⚠ No se pudo descargar/encontrar wordnet: \n",
            "**********************************************************************\n",
            "  Resource \u001b[93mwordnet\u001b[0m not found.\n",
            "  Please use the NLTK Downloader to obtain the resource:\n",
            "\n",
            "  \u001b[31m>>> import nltk\n",
            "  >>> nltk.download('wordnet')\n",
            "  \u001b[0m\n",
            "  For more information see: https://www.nltk.org/data.html\n",
            "\n",
            "  Attempted to load \u001b[93mcorpora/wordnet\u001b[0m\n",
            "\n",
            "  Searched in:\n",
            "    - 'C:\\\\Users\\\\wail-/nltk_data'\n",
            "    - 'c:\\\\Users\\\\wail-\\\\.conda\\\\envs\\\\ml\\\\nltk_data'\n",
            "    - 'c:\\\\Users\\\\wail-\\\\.conda\\\\envs\\\\ml\\\\share\\\\nltk_data'\n",
            "    - 'c:\\\\Users\\\\wail-\\\\.conda\\\\envs\\\\ml\\\\lib\\\\nltk_data'\n",
            "    - 'C:\\\\Users\\\\wail-\\\\AppData\\\\Roaming\\\\nltk_data'\n",
            "    - 'C:\\\\nltk_data'\n",
            "    - 'D:\\\\nltk_data'\n",
            "    - 'E:\\\\nltk_data'\n",
            "**********************************************************************\n",
            "\n",
            "⚠ No se pudo descargar/encontrar omw-1.4: \n",
            "**********************************************************************\n",
            "  Resource \u001b[93momw-1.4\u001b[0m not found.\n",
            "  Please use the NLTK Downloader to obtain the resource:\n",
            "\n",
            "  \u001b[31m>>> import nltk\n",
            "  >>> nltk.download('omw-1.4')\n",
            "  \u001b[0m\n",
            "  For more information see: https://www.nltk.org/data.html\n",
            "\n",
            "  Attempted to load \u001b[93mcorpora/omw-1.4\u001b[0m\n",
            "\n",
            "  Searched in:\n",
            "    - 'C:\\\\Users\\\\wail-/nltk_data'\n",
            "    - 'c:\\\\Users\\\\wail-\\\\.conda\\\\envs\\\\ml\\\\nltk_data'\n",
            "    - 'c:\\\\Users\\\\wail-\\\\.conda\\\\envs\\\\ml\\\\share\\\\nltk_data'\n",
            "    - 'c:\\\\Users\\\\wail-\\\\.conda\\\\envs\\\\ml\\\\lib\\\\nltk_data'\n",
            "    - 'C:\\\\Users\\\\wail-\\\\AppData\\\\Roaming\\\\nltk_data'\n",
            "    - 'C:\\\\nltk_data'\n",
            "    - 'D:\\\\nltk_data'\n",
            "    - 'E:\\\\nltk_data'\n",
            "**********************************************************************\n",
            "\n",
            "✓ Recursos NLTK verificados/descargados\n"
          ]
        }
      ],
      "source": [
        "import ssl\n",
        "import nltk\n",
        "\n",
        "# Forzar contexto SSL laxo si hace falta\n",
        "try:\n",
        "    _create_unverified_https_context = ssl._create_unverified_context  # type: ignore\n",
        "    ssl._create_default_https_context = _create_unverified_https_context\n",
        "except Exception:\n",
        "    pass\n",
        "\n",
        "to_check = {\n",
        "    \"punkt\": \"tokenizers/punkt\",\n",
        "    \"wordnet\": \"corpora/wordnet\",\n",
        "    \"omw-1.4\": \"corpora/omw-1.4\",\n",
        "    \"averaged_perceptron_tagger\": \"taggers/averaged_perceptron_tagger\",\n",
        "    \"averaged_perceptron_tagger_eng\": \"taggers/averaged_perceptron_tagger_eng\",\n",
        "    \"sentiwordnet\": \"corpora/sentiwordnet\",\n",
        "}\n",
        "\n",
        "def ensure_nltk(resource, path_fragment):\n",
        "    try:\n",
        "        nltk.data.find(path_fragment)\n",
        "        return True\n",
        "    except LookupError:\n",
        "        try:\n",
        "            nltk.download(resource, quiet=True)\n",
        "            nltk.data.find(path_fragment)\n",
        "            return True\n",
        "        except Exception as e:\n",
        "            print(f\"⚠ No se pudo descargar/encontrar {resource}: {e}\")\n",
        "            return False\n",
        "\n",
        "ok = {r: ensure_nltk(r, p) for r, p in to_check.items()}\n",
        "if not ok.get(\"averaged_perceptron_tagger\") and not ok.get(\"averaged_perceptron_tagger_eng\"):\n",
        "    nltk.download(\"averaged_perceptron_tagger\", quiet=True)\n",
        "\n",
        "print(\"✓ Recursos NLTK verificados/descargados\")"
      ]
    },
    {
      "cell_type": "markdown",
      "metadata": {},
      "source": [
        "## 3. Configuración, léxicos y utilidades"
      ]
    },
    {
      "cell_type": "code",
      "execution_count": 3,
      "metadata": {},
      "outputs": [
        {
          "name": "stdout",
          "output_type": "stream",
          "text": [
            "✓ Config preparada\n"
          ]
        }
      ],
      "source": [
        "from dataclasses import dataclass, field\n",
        "\n",
        "PALABRAS_POSITIVAS = {\n",
        "    'good','great','awesome','excellent','amazing','wonderful','fantastic',\n",
        "    'love','loved','loving','best','better','perfect','nice','beautiful',\n",
        "    'happy','glad','joy','joyful','pleased','delighted','enjoy','enjoyed',\n",
        "    'like','liked','favorite','brilliant','outstanding','superb','impressive',\n",
        "    'positive','success','successful','win','winner','winning','recommend',\n",
        "    'fun','interesting','cool','sweet','thanks','thank','appreciate',\n",
        "    'worthy','worth','quality','helpful','easy','comfortable','pretty',\n",
        "    'gorgeous','adorable','cute','charm','charming','pleasant','satisfied','awesome'\n",
        "}\n",
        "\n",
        "PALABRAS_NEGATIVAS = {\n",
        "    'bad','terrible','awful','horrible','worst','worse','poor','hate',\n",
        "    'hated','dislike','disappointing','disappointed','disappointment',\n",
        "    'sad','angry','upset','annoying','annoyed','frustrating','frustrated',\n",
        "    'boring','bored','dull','useless','waste','wasted','fail','failed',\n",
        "    'failure','problem','issue','trouble','difficult','hard','sucks',\n",
        "    'stupid','dumb','ugly','disgusting','nasty','gross','crap','shit',\n",
        "    'damn','hell','wrong','error','broken','broke','uncomfortable',\n",
        "    'painful','pain','suffer','suffering','regret','sorry','weak','scam','buggy'\n",
        "}\n",
        "\n",
        "NEGACIONES = {\n",
        "    'not','no',\"n't\",'never','neither','nobody','nothing','nowhere',\n",
        "    'none','nor','cannot','cant',\"can't\",\"won't\",\"wouldn't\",\"shouldn't\",\n",
        "    \"couldn't\",\"doesn't\",\"don't\",\"didn't\",\"isn't\",\"aren't\",\"wasn't\",\"weren't\"\n",
        "}\n",
        "\n",
        "INTENSIFICADORES = {\n",
        "    'very':1.5,'really':1.5,'extremely':2.0,'absolutely':1.8,\n",
        "    'incredibly':1.8,'highly':1.5,'particularly':1.3,'especially':1.3,\n",
        "    'totally':1.6,'completely':1.6,'utterly':1.7,'quite':1.2,\n",
        "    'so':1.4,'too':1.3,'super':1.5,'exceptionally':1.8\n",
        "}\n",
        "\n",
        "ATENUADORES = {\n",
        "    'somewhat':0.5,'slightly':0.5,'barely':0.4,'hardly':0.4,\n",
        "    'almost':0.6,'nearly':0.6,'kind':0.5,'sort':0.5,\n",
        "    'little':0.6,'bit':0.6,'rather':0.7,'fairly':0.7\n",
        "}\n",
        "\n",
        "EMOJI_SENT = {\n",
        "    \"😀\": 1.0, \"😃\": 1.0, \"😄\": 1.0, \"😁\": 1.0, \"😂\": 1.0, \"😊\": 0.8, \"😍\": 1.2, \"🤩\": 1.2, \"👍\": 0.8, \"🥰\": 1.1,\n",
        "    \"🙂\": 0.5, \"😐\": 0.0, \"😕\": -0.2, \"😞\": -0.7, \"😟\": -0.7, \"😢\": -1.0, \"😭\": -1.2, \"😡\": -1.2, \"🤬\": -1.5, \"👎\": -0.8\n",
        "}\n",
        "\n",
        "EMOTICON_SENT = {\n",
        "    \":)\": 0.6, \":-)\": 0.6, \":D\": 0.9, \":-D\": 0.9, \";)\": 0.4,\n",
        "    \":(\": -0.6, \":-(\": -0.6, \":'(\": -0.9, \">:(\": -1.1, \"XD\": 0.7\n",
        "}\n",
        "\n",
        "PIVOTES_CONTRASTE = {\"but\",\"however\",\"though\",\"although\"}\n",
        "\n",
        "from dataclasses import dataclass, field\n",
        "@dataclass\n",
        "class Config:\n",
        "    usar_sentiwordnet: bool = True\n",
        "    ventana_negacion: int = 3\n",
        "    reset_negacion_en_puntuacion: bool = True\n",
        "    boost_exclamacion: float = 0.10\n",
        "    boost_mayusculas: float = 0.15\n",
        "    boost_repeticion: float = 0.10\n",
        "    peso_pre_contraste: float = 0.5\n",
        "    peso_post_contraste: float = 1.5\n",
        "    max_stack_mod: int = 2\n",
        "    limites_puntuacion_reset: set = field(default_factory=lambda: {\".\",\"!\",\"?\",\";\",\"—\",\"-\",\"…\"})\n",
        "    pos: set = field(default_factory=lambda: set(PALABRAS_POSITIVAS))\n",
        "    neg: set = field(default_factory=lambda: set(PALABRAS_NEGATIVAS))\n",
        "    negaciones: set = field(default_factory=lambda: set(NEGACIONES))\n",
        "    intensificadores: dict = field(default_factory=lambda: dict(INTENSIFICADORES))\n",
        "    atenuadores: dict = field(default_factory=lambda: dict(ATENUADORES))\n",
        "\n",
        "CFG = Config()\n",
        "print(\"✓ Config preparada\")"
      ]
    },
    {
      "cell_type": "markdown",
      "metadata": {},
      "source": [
        "## 4. Preprocesado de texto (conserva señales de sentimiento)"
      ]
    },
    {
      "cell_type": "code",
      "execution_count": 4,
      "metadata": {},
      "outputs": [
        {
          "name": "stdout",
          "output_type": "stream",
          "text": [
            "✓ Funciones de preprocesado listas\n"
          ]
        }
      ],
      "source": [
        "import re\n",
        "import pandas as pd\n",
        "import numpy as np\n",
        "import emoji as _emoji\n",
        "\n",
        "URL_RE = re.compile(r'https?://\\S+|www\\.\\S+')\n",
        "MENTION_RE = re.compile(r'@\\w+')\n",
        "NON_SENT_CHARS_RE = re.compile(r\"[^\\w\\s!?\\.\\'\\-]\", flags=re.UNICODE)\n",
        "MULTISPACE_RE = re.compile(r\"\\s+\")\n",
        "REPEAT_CHAR_RE = re.compile(r'([a-zA-Z])\\1{2,}')\n",
        "\n",
        "def normalizar_emoticonos(texto: str) -> float:\n",
        "    total = 0.0\n",
        "    for emo, val in EMOTICON_SENT.items():\n",
        "        total += texto.count(emo) * val\n",
        "    return total\n",
        "\n",
        "def contribucion_emojis(texto: str) -> float:\n",
        "    return sum(EMOJI_SENT.get(ch, 0.0) for ch in texto if ch in EMOJI_SENT)\n",
        "\n",
        "def preprocesar_texto(texto: str) -> str:\n",
        "    if pd.isna(texto):\n",
        "        return \"\"\n",
        "    t = str(texto)\n",
        "    t = t.lower()\n",
        "    t = URL_RE.sub(\"\", t)\n",
        "    t = MENTION_RE.sub(\"\", t)\n",
        "    t = NON_SENT_CHARS_RE.sub(\" \", t)\n",
        "    t = MULTISPACE_RE.sub(\" \", t).strip()\n",
        "    return t\n",
        "\n",
        "print(\"✓ Funciones de preprocesado listas\")"
      ]
    },
    {
      "cell_type": "markdown",
      "metadata": {},
      "source": [
        "## 5. SentiWordNet, etiquetado POS y caché"
      ]
    },
    {
      "cell_type": "code",
      "execution_count": 5,
      "metadata": {},
      "outputs": [],
      "source": [
        "import nltk\n",
        "from functools import lru_cache\n",
        "from nltk.corpus import wordnet as wn, sentiwordnet as swn\n",
        "from nltk.tokenize import word_tokenize\n",
        "from nltk.stem import WordNetLemmatizer\n",
        "\n",
        "LEMMATIZER = WordNetLemmatizer()\n",
        "\n",
        "def _to_wn_pos(tag: str):\n",
        "    if tag.startswith('J'):\n",
        "        return wn.ADJ\n",
        "    if tag.startswith('V'):\n",
        "        return wn.VERB\n",
        "    if tag.startswith('N'):\n",
        "        return wn.NOUN\n",
        "    if tag.startswith('R'):\n",
        "        return wn.ADV\n",
        "    return wn.NOUN\n",
        "\n",
        "@lru_cache(maxsize=200000)\n",
        "def senti_from_swn(lemma: str, wn_pos) -> float:\n",
        "    try:\n",
        "        synsets = list(swn.senti_synsets(lemma, pos=wn_pos))\n",
        "        if not synsets:\n",
        "            return 0.0\n",
        "        best = max(synsets, key=lambda ss: abs(ss.pos_score() - ss.neg_score()))\n",
        "        return best.pos_score() - best.neg_score()\n",
        "    except Exception:\n",
        "        return 0.0\n",
        "\n",
        "def pos_tag_tokens(tokens):\n",
        "    try:\n",
        "        return nltk.pos_tag(tokens)\n",
        "    except LookupError:\n",
        "        nltk.download(\"averaged_perceptron_tagger\", quiet=True)\n",
        "        return nltk.pos_tag(tokens)"
      ]
    },
    {
      "cell_type": "markdown",
      "metadata": {},
      "source": [
        "## 6. Señales adicionales y análisis de características"
      ]
    },
    {
      "cell_type": "code",
      "execution_count": 6,
      "metadata": {},
      "outputs": [
        {
          "name": "stdout",
          "output_type": "stream",
          "text": [
            "✓ Señales listas\n"
          ]
        }
      ],
      "source": [
        "def contar_exclamaciones(texto: str) -> int:\n",
        "    return texto.count('!')\n",
        "\n",
        "def contar_interrogaciones(texto: str) -> int:\n",
        "    return texto.count('?')\n",
        "\n",
        "def contar_mayusculas_enfaticas(texto: str) -> int:\n",
        "    # Si deseas usarlo, pásale el texto original sin lower()\n",
        "    return 0\n",
        "\n",
        "def contar_repeticiones_letras(texto: str) -> int:\n",
        "    return len(REPEAT_CHAR_RE.findall(texto))\n",
        "\n",
        "print(\"✓ Señales listas\")"
      ]
    },
    {
      "cell_type": "markdown",
      "metadata": {},
      "source": [
        "## 7. Motor de análisis basado en reglas (mejorado)"
      ]
    },
    {
      "cell_type": "code",
      "execution_count": 7,
      "metadata": {},
      "outputs": [
        {
          "name": "stdout",
          "output_type": "stream",
          "text": [
            "This is amazing! I love it! -> 2.55\n",
            "This is terrible. I hate it. -> -2.125\n",
            "Not bad, quite good actually. -> 0.175\n",
            "This is not good at all. -> -0.875\n",
            "BEST MOVIE EVER!!! -> 1.3\n",
            "I wanted to like it, but it was boring... -> -1.125\n",
            "Great camera, however the battery is awful :( -> -1.788\n",
            "soooo goooood!!! -> 0.0\n",
            "I can't say it's bad -> -1.125\n"
          ]
        }
      ],
      "source": [
        "PIVOTES_CONTRASTE = {\"but\",\"however\",\"though\",\"although\"}\n",
        "\n",
        "def _aplicar_modificador(score_word: float, modificador: float, negacion_activa: bool) -> float:\n",
        "    v = score_word * modificador\n",
        "    return -v if negacion_activa else v\n",
        "\n",
        "def _segmentos_contraste(tokens):\n",
        "    for i, tok in enumerate(tokens):\n",
        "        if tok in PIVOTES_CONTRASTE:\n",
        "            return tokens[:i], tokens[i+1:]\n",
        "    return tokens, []\n",
        "\n",
        "def analizar_sentimiento_texto(texto: str, cfg: Config = CFG) -> float:\n",
        "    if not texto:\n",
        "        return 0.0\n",
        "\n",
        "    boost_emoji = contribucion_emojis(texto)\n",
        "    boost_emoticon = normalizar_emoticonos(texto)\n",
        "\n",
        "    t = preprocesar_texto(texto)\n",
        "    if not t:\n",
        "        return boost_emoji + boost_emoticon\n",
        "\n",
        "    tokens = word_tokenize(t)\n",
        "    if not tokens:\n",
        "        return boost_emoji + boost_emoticon\n",
        "\n",
        "    left, right = _segmentos_contraste(tokens)\n",
        "\n",
        "    def puntuar_bloque(btokens):\n",
        "        score = 0.0\n",
        "        if not btokens:\n",
        "            return score\n",
        "        tagged = pos_tag_tokens(btokens)\n",
        "        negacion_activa = False\n",
        "        ventana = 0\n",
        "        stack_mod = 0\n",
        "        modificador = 1.0\n",
        "\n",
        "        for i, (tok, pos) in enumerate(tagged):\n",
        "            if cfg.reset_negacion_en_puntuacion and tok in cfg.limites_puntuacion_reset:\n",
        "                negacion_activa = False\n",
        "                ventana = 0\n",
        "                modificador = 1.0\n",
        "                stack_mod = 0\n",
        "                continue\n",
        "\n",
        "            if negacion_activa:\n",
        "                ventana += 1\n",
        "                if ventana > cfg.ventana_negacion:\n",
        "                    negacion_activa = False\n",
        "                    ventana = 0\n",
        "\n",
        "            if tok in cfg.negaciones:\n",
        "                negacion_activa = True\n",
        "                ventana = 0\n",
        "                continue\n",
        "\n",
        "            if tok in cfg.intensificadores:\n",
        "                modificador *= cfg.intensificadores[tok]\n",
        "                stack_mod += 1\n",
        "                if stack_mod > cfg.max_stack_mod:\n",
        "                    modificador = max(modificador, cfg.intensificadores[tok])\n",
        "                continue\n",
        "\n",
        "            if tok in cfg.atenuadores:\n",
        "                modificador *= cfg.atenuadores[tok]\n",
        "                stack_mod += 1\n",
        "                if stack_mod > cfg.max_stack_mod:\n",
        "                    modificador = min(modificador, cfg.atenuadores[tok])\n",
        "                continue\n",
        "\n",
        "            s = 0.0\n",
        "            if tok in cfg.pos:\n",
        "                s = 1.0\n",
        "            elif tok in cfg.neg:\n",
        "                s = -1.0\n",
        "            elif cfg.usar_sentiwordnet:\n",
        "                wn_pos = _to_wn_pos(pos)\n",
        "                lemma = LEMMATIZER.lemmatize(tok, pos=wn_pos)\n",
        "                s = senti_from_swn(lemma, wn_pos)\n",
        "\n",
        "            if s != 0.0:\n",
        "                score += _aplicar_modificador(s, modificador, negacion_activa)\n",
        "                modificador = 1.0\n",
        "                stack_mod = 0\n",
        "\n",
        "        return score\n",
        "\n",
        "    score_left = puntuar_bloque(left)\n",
        "    score_right = puntuar_bloque(right)\n",
        "\n",
        "    if right:\n",
        "        score = CFG.peso_pre_contraste * score_left + CFG.peso_post_contraste * score_right\n",
        "    else:\n",
        "        score = score_left\n",
        "\n",
        "    excls = contar_exclamaciones(texto)\n",
        "    reps = contar_repeticiones_letras(texto)\n",
        "    if excls > 0:\n",
        "        score *= (1 + CFG.boost_exclamacion * excls)\n",
        "    if reps > 0:\n",
        "        score *= (1 + CFG.boost_repeticion * reps)\n",
        "\n",
        "    score += boost_emoji + boost_emoticon\n",
        "    return score\n",
        "\n",
        "# Pruebas rápidas\n",
        "ejemplos = [\n",
        "    \"This is amazing! I love it!\",\n",
        "    \"This is terrible. I hate it.\",\n",
        "    \"Not bad, quite good actually.\",\n",
        "    \"This is not good at all.\",\n",
        "    \"BEST MOVIE EVER!!!\",\n",
        "    \"I wanted to like it, but it was boring...\",\n",
        "    \"Great camera, however the battery is awful :(\",\n",
        "    \"soooo goooood!!!\",\n",
        "    \"I can't say it's bad\",\n",
        "]\n",
        "for e in ejemplos:\n",
        "    print(e, \"->\", round(analizar_sentimiento_texto(e), 3))"
      ]
    },
    {
      "cell_type": "markdown",
      "metadata": {},
      "source": [
        "## 8. Calibración y métricas"
      ]
    },
    {
      "cell_type": "code",
      "execution_count": 8,
      "metadata": {},
      "outputs": [],
      "source": [
        "import numpy as np\n",
        "\n",
        "def predecir_sentimiento(score: float, umbral: float=0.0) -> int:\n",
        "    # Devuelve 4 si score > umbral, si no 0\n",
        "    return 4 if score > umbral else 0\n",
        "\n",
        "def metricas_basicas(y_true, y_pred):\n",
        "    y_true = np.array(y_true)\n",
        "    y_pred = np.array(y_pred)\n",
        "    acc = (y_true == y_pred).mean() if len(y_true) else 0.0\n",
        "\n",
        "    neg_mask = y_true == 0\n",
        "    pos_mask = y_true == 4\n",
        "    neg_true = neg_mask.sum()\n",
        "    pos_true = pos_mask.sum()\n",
        "\n",
        "    neg_correct = ((y_true == 0) & (y_pred == 0)).sum()\n",
        "    pos_correct = ((y_true == 4) & (y_pred == 4)).sum()\n",
        "\n",
        "    recall_neg = (neg_correct / neg_true) if neg_true else 0.0\n",
        "    recall_pos = (pos_correct / pos_true) if pos_true else 0.0\n",
        "    bacc = 0.5 * (recall_neg + recall_pos)\n",
        "\n",
        "    return {\n",
        "        \"accuracy\": float(acc),\n",
        "        \"balanced_accuracy\": float(bacc),\n",
        "        \"recall_neg\": float(recall_neg),\n",
        "        \"recall_pos\": float(recall_pos),\n",
        "    }\n",
        "\n",
        "def calibrar_umbral(scores: np.ndarray, y_true: np.ndarray, umbrales=None):\n",
        "    if umbrales is None:\n",
        "        umbrales = np.linspace(-2.0, 2.0, 81)  # más fino\n",
        "    mejor, metr_mejor = None, None\n",
        "    for u in umbrales:\n",
        "        y_pred = np.where(scores > u, 4, 0)\n",
        "        m = metricas_basicas(y_true, y_pred)\n",
        "        if metr_mejor is None or m[\"balanced_accuracy\"] > metr_mejor[\"balanced_accuracy\"]:\n",
        "            mejor, metr_mejor = u, m\n",
        "    return mejor, metr_mejor"
      ]
    },
    {
      "cell_type": "markdown",
      "metadata": {},
      "source": [
        "## 9. Carga del dataset"
      ]
    },
    {
      "cell_type": "code",
      "execution_count": 9,
      "metadata": {},
      "outputs": [
        {
          "name": "stdout",
          "output_type": "stream",
          "text": [
            "Dataset cargado: 200,000 registros\n",
            "Columna de texto detectada: 'text'\n",
            "✓ Columna 'target' encontrada\n",
            "target\n",
            "4    100000\n",
            "0    100000\n",
            "Name: count, dtype: int64\n"
          ]
        }
      ],
      "source": [
        "import pandas as pd\n",
        "\n",
        "DATA_PATH = \"dataset/df_200k.csv\"\n",
        "\n",
        "df = pd.read_csv(DATA_PATH)\n",
        "print(f\"Dataset cargado: {len(df):,} registros\")\n",
        "\n",
        "# Detectar columna de texto\n",
        "text_col_candidates = [c for c in df.columns if c.lower() in {\"text\",\"tweet\",\"review\",\"content\"}]\n",
        "if not text_col_candidates:\n",
        "    # fallback: elegir la columna con mayor proporción de strings no vacíos\n",
        "    str_props = {c: (df[c].astype(str).str.len() > 0).mean() for c in df.columns}\n",
        "    text_col = max(str_props, key=str_props.get)\n",
        "else:\n",
        "    text_col = text_col_candidates[0]\n",
        "\n",
        "print(f\"Columna de texto detectada: '{text_col}'\")\n",
        "tiene_target = \"target\" in df.columns\n",
        "if tiene_target:\n",
        "    print(\"✓ Columna 'target' encontrada\")\n",
        "    print(df[\"target\"].value_counts())\n",
        "else:\n",
        "    print(\"⚠ No se encontró columna 'target'\")"
      ]
    },
    {
      "cell_type": "markdown",
      "metadata": {},
      "source": [
        "## 10. Preprocesamiento en la tabla"
      ]
    },
    {
      "cell_type": "code",
      "execution_count": 10,
      "metadata": {},
      "outputs": [
        {
          "data": {
            "application/vnd.jupyter.widget-view+json": {
              "model_id": "e10cbdd941494d50a3fcbac60435e7ee",
              "version_major": 2,
              "version_minor": 0
            },
            "text/plain": [
              "Preprocesando:   0%|          | 0/200000 [00:00<?, ?it/s]"
            ]
          },
          "metadata": {},
          "output_type": "display_data"
        },
        {
          "name": "stdout",
          "output_type": "stream",
          "text": [
            "✓ Preprocesamiento completado\n",
            "                                                text  \\\n",
            "0  Looks like the sun finally located Trondheim ;...   \n",
            "1  A long weekend begins. The sun is shining and ...   \n",
            "2         to the beach we go! hope it stays nice...    \n",
            "3  @JBFutureboy I missed it  busted need to do a ...   \n",
            "4          Why I can't change my background image??    \n",
            "\n",
            "                                          text_clean  \n",
            "0  looks like the sun finally located trondheim -...  \n",
            "1  a long weekend begins. the sun is shining and ...  \n",
            "2          to the beach we go! hope it stays nice...  \n",
            "3  i missed it busted need to do a reunion tour. ...  \n",
            "4           why i can't change my background image??  \n"
          ]
        }
      ],
      "source": [
        "from tqdm.auto import tqdm\n",
        "tqdm.pandas(desc=\"Preprocesando\")\n",
        "\n",
        "df[\"text_clean\"] = df[text_col].progress_apply(preprocesar_texto)\n",
        "print(\"✓ Preprocesamiento completado\")\n",
        "print(df[[text_col,\"text_clean\"]].head())"
      ]
    },
    {
      "cell_type": "markdown",
      "metadata": {},
      "source": [
        "## 11. Calibración de umbral con muestra (si hay target)"
      ]
    },
    {
      "cell_type": "code",
      "execution_count": 11,
      "metadata": {},
      "outputs": [
        {
          "data": {
            "application/vnd.jupyter.widget-view+json": {
              "model_id": "e84583c1627f4773bd92e0302bf40d0a",
              "version_major": 2,
              "version_minor": 0
            },
            "text/plain": [
              "Scoring muestra:   0%|          | 0/20000 [00:00<?, ?it/s]"
            ]
          },
          "metadata": {},
          "output_type": "display_data"
        },
        {
          "name": "stdout",
          "output_type": "stream",
          "text": [
            "✓ Calibración completada\n",
            "Mejor umbral: -0.050\n",
            "Métricas (muestra): {'accuracy': 0.65225, 'balanced_accuracy': 0.6526070718910129, 'recall_neg': 0.5444034685537725, 'recall_pos': 0.7608106752282532}\n"
          ]
        }
      ],
      "source": [
        "import numpy as np\n",
        "from tqdm.auto import tqdm\n",
        "\n",
        "if tiene_target:\n",
        "    tam_muestra = min(20000, len(df))\n",
        "    sample = df.sample(n=tam_muestra, random_state=42).copy()\n",
        "    tqdm.pandas(desc=\"Scoring muestra\")\n",
        "    sample[\"score\"] = sample[\"text_clean\"].progress_apply(analizar_sentimiento_texto)\n",
        "    mejor_umbral, metr = calibrar_umbral(sample[\"score\"].values, sample[\"target\"].values)\n",
        "    print(\"✓ Calibración completada\")\n",
        "    print(f\"Mejor umbral: {mejor_umbral:.3f}\")\n",
        "    print(\"Métricas (muestra):\", metr)\n",
        "else:\n",
        "    mejor_umbral = 0.0\n",
        "    print(\"⚠ Sin target → umbral por defecto = 0.0\")"
      ]
    },
    {
      "cell_type": "markdown",
      "metadata": {},
      "source": [
        "## 12. Scoring y predicción en todo el dataset"
      ]
    },
    {
      "cell_type": "code",
      "execution_count": 12,
      "metadata": {},
      "outputs": [
        {
          "data": {
            "application/vnd.jupyter.widget-view+json": {
              "model_id": "edd92c01feaf4ee2a98488fec2a516e2",
              "version_major": 2,
              "version_minor": 0
            },
            "text/plain": [
              "Scoring dataset:   0%|          | 0/200000 [00:00<?, ?it/s]"
            ]
          },
          "metadata": {},
          "output_type": "display_data"
        },
        {
          "name": "stdout",
          "output_type": "stream",
          "text": [
            "Distribución de predicciones:\n",
            "sentiment_pred\n",
            "4    120407\n",
            "0     79593\n",
            "Name: count, dtype: int64\n",
            "sentiment_pred\n",
            "4    0.602035\n",
            "0    0.397965\n",
            "Name: proportion, dtype: float64\n"
          ]
        }
      ],
      "source": [
        "from tqdm.auto import tqdm\n",
        "tqdm.pandas(desc=\"Scoring dataset\")\n",
        "\n",
        "df[\"sentiment_score\"] = df[\"text_clean\"].progress_apply(analizar_sentimiento_texto)\n",
        "df[\"sentiment_pred\"] = (df[\"sentiment_score\"] > mejor_umbral).astype(int).replace({0:0,1:4})\n",
        "\n",
        "print(\"Distribución de predicciones:\")\n",
        "print(df[\"sentiment_pred\"].value_counts())\n",
        "print(df[\"sentiment_pred\"].value_counts(normalize=True))"
      ]
    },
    {
      "cell_type": "markdown",
      "metadata": {},
      "source": [
        "## 13. Evaluación final (si hay target)"
      ]
    },
    {
      "cell_type": "code",
      "execution_count": 18,
      "metadata": {},
      "outputs": [
        {
          "name": "stdout",
          "output_type": "stream",
          "text": [
            "Conteos (absolutos):\n"
          ]
        },
        {
          "data": {
            "text/html": [
              "<div>\n",
              "<style scoped>\n",
              "    .dataframe tbody tr th:only-of-type {\n",
              "        vertical-align: middle;\n",
              "    }\n",
              "\n",
              "    .dataframe tbody tr th {\n",
              "        vertical-align: top;\n",
              "    }\n",
              "\n",
              "    .dataframe thead th {\n",
              "        text-align: right;\n",
              "    }\n",
              "</style>\n",
              "<table border=\"1\" class=\"dataframe\">\n",
              "  <thead>\n",
              "    <tr style=\"text-align: right;\">\n",
              "      <th></th>\n",
              "      <th>Pred NEG (0)</th>\n",
              "      <th>Pred POS (4)</th>\n",
              "    </tr>\n",
              "  </thead>\n",
              "  <tbody>\n",
              "    <tr>\n",
              "      <th>Real NEG (0)</th>\n",
              "      <td>55083</td>\n",
              "      <td>44917</td>\n",
              "    </tr>\n",
              "    <tr>\n",
              "      <th>Real POS (4)</th>\n",
              "      <td>24510</td>\n",
              "      <td>75490</td>\n",
              "    </tr>\n",
              "  </tbody>\n",
              "</table>\n",
              "</div>"
            ],
            "text/plain": [
              "              Pred NEG (0)  Pred POS (4)\n",
              "Real NEG (0)         55083         44917\n",
              "Real POS (4)         24510         75490"
            ]
          },
          "metadata": {},
          "output_type": "display_data"
        },
        {
          "name": "stdout",
          "output_type": "stream",
          "text": [
            "\n",
            "Porcentajes por FILA (≈ recall por clase):\n"
          ]
        },
        {
          "data": {
            "text/html": [
              "<div>\n",
              "<style scoped>\n",
              "    .dataframe tbody tr th:only-of-type {\n",
              "        vertical-align: middle;\n",
              "    }\n",
              "\n",
              "    .dataframe tbody tr th {\n",
              "        vertical-align: top;\n",
              "    }\n",
              "\n",
              "    .dataframe thead th {\n",
              "        text-align: right;\n",
              "    }\n",
              "</style>\n",
              "<table border=\"1\" class=\"dataframe\">\n",
              "  <thead>\n",
              "    <tr style=\"text-align: right;\">\n",
              "      <th></th>\n",
              "      <th>Pred NEG (0)</th>\n",
              "      <th>Pred POS (4)</th>\n",
              "    </tr>\n",
              "  </thead>\n",
              "  <tbody>\n",
              "    <tr>\n",
              "      <th>Real NEG (0)</th>\n",
              "      <td>55.08</td>\n",
              "      <td>44.92</td>\n",
              "    </tr>\n",
              "    <tr>\n",
              "      <th>Real POS (4)</th>\n",
              "      <td>24.51</td>\n",
              "      <td>75.49</td>\n",
              "    </tr>\n",
              "  </tbody>\n",
              "</table>\n",
              "</div>"
            ],
            "text/plain": [
              "              Pred NEG (0)  Pred POS (4)\n",
              "Real NEG (0)         55.08         44.92\n",
              "Real POS (4)         24.51         75.49"
            ]
          },
          "metadata": {},
          "output_type": "display_data"
        },
        {
          "name": "stdout",
          "output_type": "stream",
          "text": [
            "\n",
            "Porcentajes por COLUMNA (≈ precision por clase):\n"
          ]
        },
        {
          "data": {
            "text/html": [
              "<div>\n",
              "<style scoped>\n",
              "    .dataframe tbody tr th:only-of-type {\n",
              "        vertical-align: middle;\n",
              "    }\n",
              "\n",
              "    .dataframe tbody tr th {\n",
              "        vertical-align: top;\n",
              "    }\n",
              "\n",
              "    .dataframe thead th {\n",
              "        text-align: right;\n",
              "    }\n",
              "</style>\n",
              "<table border=\"1\" class=\"dataframe\">\n",
              "  <thead>\n",
              "    <tr style=\"text-align: right;\">\n",
              "      <th></th>\n",
              "      <th>Pred NEG (0)</th>\n",
              "      <th>Pred POS (4)</th>\n",
              "    </tr>\n",
              "  </thead>\n",
              "  <tbody>\n",
              "    <tr>\n",
              "      <th>Real NEG (0)</th>\n",
              "      <td>69.21</td>\n",
              "      <td>37.3</td>\n",
              "    </tr>\n",
              "    <tr>\n",
              "      <th>Real POS (4)</th>\n",
              "      <td>30.79</td>\n",
              "      <td>62.7</td>\n",
              "    </tr>\n",
              "  </tbody>\n",
              "</table>\n",
              "</div>"
            ],
            "text/plain": [
              "              Pred NEG (0)  Pred POS (4)\n",
              "Real NEG (0)         69.21          37.3\n",
              "Real POS (4)         30.79          62.7"
            ]
          },
          "metadata": {},
          "output_type": "display_data"
        },
        {
          "name": "stdout",
          "output_type": "stream",
          "text": [
            "\n",
            "Porcentajes sobre el TOTAL:\n"
          ]
        },
        {
          "data": {
            "text/html": [
              "<div>\n",
              "<style scoped>\n",
              "    .dataframe tbody tr th:only-of-type {\n",
              "        vertical-align: middle;\n",
              "    }\n",
              "\n",
              "    .dataframe tbody tr th {\n",
              "        vertical-align: top;\n",
              "    }\n",
              "\n",
              "    .dataframe thead th {\n",
              "        text-align: right;\n",
              "    }\n",
              "</style>\n",
              "<table border=\"1\" class=\"dataframe\">\n",
              "  <thead>\n",
              "    <tr style=\"text-align: right;\">\n",
              "      <th></th>\n",
              "      <th>Pred NEG (0)</th>\n",
              "      <th>Pred POS (4)</th>\n",
              "    </tr>\n",
              "  </thead>\n",
              "  <tbody>\n",
              "    <tr>\n",
              "      <th>Real NEG (0)</th>\n",
              "      <td>27.54</td>\n",
              "      <td>22.46</td>\n",
              "    </tr>\n",
              "    <tr>\n",
              "      <th>Real POS (4)</th>\n",
              "      <td>12.26</td>\n",
              "      <td>37.74</td>\n",
              "    </tr>\n",
              "  </tbody>\n",
              "</table>\n",
              "</div>"
            ],
            "text/plain": [
              "              Pred NEG (0)  Pred POS (4)\n",
              "Real NEG (0)         27.54         22.46\n",
              "Real POS (4)         12.26         37.74"
            ]
          },
          "metadata": {},
          "output_type": "display_data"
        },
        {
          "data": {
            "image/png": "[encoded data removed]",
            "text/plain": [
              "<Figure size 640x480 with 2 Axes>"
            ]
          },
          "metadata": {},
          "output_type": "display_data"
        }
      ],
      "source": [
        "\n",
        "import numpy as np\n",
        "import pandas as pd\n",
        "import matplotlib.pyplot as plt\n",
        "\n",
        "if not ('tiene_target' in globals() and bool(tiene_target)):\n",
        "    print(\"⚠ No hay columna 'target'. Ejecuta esta celda sólo si existe `target` con valores {0,4}.\")\n",
        "else:\n",
        "    # Filtrar a clases 0/4 por seguridad\n",
        "    mask = df[\"target\"].isin([0,4]) & df[\"sentiment_pred\"].isin([0,4])\n",
        "    y_true = (df.loc[mask, \"target\"] == 4).astype(int).values  # 0->neg, 1->pos\n",
        "    y_pred = (df.loc[mask, \"sentiment_pred\"] == 4).astype(int).values\n",
        "\n",
        "    # CM: [[TN, FP], [FN, TP]]\n",
        "    TN = int(((y_true==0) & (y_pred==0)).sum())\n",
        "    FP = int(((y_true==0) & (y_pred==1)).sum())\n",
        "    FN = int(((y_true==1) & (y_pred==0)).sum())\n",
        "    TP = int(((y_true==1) & (y_pred==1)).sum())\n",
        "    cm = np.array([[TN, FP],[FN, TP]], dtype=int)\n",
        "\n",
        "    # Tablas legibles (conteos y porcentajes)\n",
        "    df_counts = pd.DataFrame(\n",
        "        cm,\n",
        "        index=[\"Real NEG (0)\",\"Real POS (4)\"],\n",
        "        columns=[\"Pred NEG (0)\",\"Pred POS (4)\"]\n",
        "    )\n",
        "    row_sums = df_counts.sum(axis=1).replace(0, np.nan)\n",
        "    col_sums = df_counts.sum(axis=0).replace(0, np.nan)\n",
        "    total = df_counts.values.sum()\n",
        "\n",
        "    df_row_pct = (df_counts.div(row_sums, axis=0) * 100).round(2)\n",
        "    df_col_pct = (df_counts.div(col_sums, axis=1) * 100).round(2)\n",
        "    df_all_pct = (df_counts / total * 100).round(2) if total>0 else df_counts.astype(float)\n",
        "\n",
        "    print(\"Conteos (absolutos):\")\n",
        "    display(df_counts)\n",
        "    print(\"\\nPorcentajes por FILA (≈ recall por clase):\")\n",
        "    display(df_row_pct)\n",
        "    print(\"\\nPorcentajes por COLUMNA (≈ precision por clase):\")\n",
        "    display(df_col_pct)\n",
        "    print(\"\\nPorcentajes sobre el TOTAL:\")\n",
        "    display(df_all_pct)\n",
        "\n",
        "    # Gráfico de la matriz (1 figura, sin estilos/colores explícitos)\n",
        "    plt.figure()\n",
        "    plt.imshow(cm, interpolation='nearest')  # sin cmap explícito\n",
        "    plt.title(\"Matriz de confusión\")\n",
        "    plt.xlabel(\"Predicción\")\n",
        "    plt.ylabel(\"Real\")\n",
        "    plt.xticks([0,1], [\"NEG (0)\",\"POS (4)\"])\n",
        "    plt.yticks([0,1], [\"NEG (0)\",\"POS (4)\"])\n",
        "\n",
        "    # Anotar cada celda con conteo y % por fila\n",
        "    for i in range(2):\n",
        "        for j in range(2):\n",
        "            val = cm[i, j]\n",
        "            fila = cm[i, :].sum()\n",
        "            pct_row = (val / fila * 100) if fila > 0 else 0.0\n",
        "            plt.text(j, i, f\"{val}\\n{pct_row:.1f}%\", ha=\"center\", va=\"center\")\n",
        "\n",
        "    plt.colorbar()\n",
        "    plt.tight_layout()\n",
        "    plt.show()\n"
      ]
    },
    {
      "cell_type": "markdown",
      "metadata": {},
      "source": [
        "## 14. Gráficos rápidos (distribución de scores)"
      ]
    },
    {
      "cell_type": "code",
      "execution_count": 14,
      "metadata": {},
      "outputs": [
        {
          "data": {
            "image/png": "[encoded data removed]",
            "text/plain": [
              "<Figure size 640x480 with 1 Axes>"
            ]
          },
          "metadata": {},
          "output_type": "display_data"
        }
      ],
      "source": [
        "import matplotlib.pyplot as plt\n",
        "\n",
        "plt.figure()\n",
        "df[\"sentiment_score\"].hist(bins=100)\n",
        "plt.title(\"Distribución de sentiment_score\")\n",
        "plt.xlabel(\"score\")\n",
        "plt.ylabel(\"frecuencia\")\n",
        "plt.show()"
      ]
    },
    {
      "cell_type": "markdown",
      "metadata": {},
      "source": [
        "## 15. Ejemplos cualitativos"
      ]
    },
    {
      "cell_type": "code",
      "execution_count": 19,
      "metadata": {},
      "outputs": [
        {
          "name": "stdout",
          "output_type": "stream",
          "text": [
            "──────────── FALSOS POSITIVOS (Real NEG=0, Pred POS=4) ────────────\n",
            "Texto: Watching the parade from home  But Loving all the highlights from the season! I LOVE THE LAKERS!!!!!!!!!!!!!!!!!!!!!!!xoxoxoxoxoxoxoxoxoxo...\n",
            "Score: 14.450 | Real: NEG | Pred: POS ✗\n",
            "\n",
            "Texto: I scraped my hand  but @toyayu tended to my wound, I feel like I'm five again! She's soooo sweet! I love my mommy!!...\n",
            "Score: 9.240 | Real: NEG | Pred: POS ✗\n",
            "\n",
            "Texto: I scraped my hand  but @toyayu tended my wound, I feel like I'm five again! She's soooo sweet! I love my mommy!!...\n",
            "Score: 9.240 | Real: NEG | Pred: POS ✗\n",
            "\n",
            "Texto: @selenagomez Selly i`m begging you. please replay to me. you`ll make my day. please please  i love you sooooooo much!!!!!!!!!!!!!!!!!!!...\n",
            "Score: 9.171 | Real: NEG | Pred: POS ✗\n",
            "\n",
            "Texto: @selenagomez Selly i`m begging you. please replay to me. you`ll make my day. please please  i love you sooooooo much!!!!!!!!!!!!!!!!!!!...\n",
            "Score: 9.171 | Real: NEG | Pred: POS ✗\n",
            "\n",
            "──────────── FALSOS NEGATIVOS (Real POS=4, Pred NEG=0) ────────────\n",
            "Texto: @ajayrochester DO IT DO IT DO IT DO IT DO IT DO IT DO IT DO IT DO IT DO IT DO IT DO IT DO IT DO IT DO IT DO IT DO IT DO IT DO IT DO IT ...\n",
            "Score: -10.000 | Real: POS | Pred: NEG ✗\n",
            "\n",
            "Texto: i keep having to sneeze...but don't. popcorn's done. i always seem to spell &quot;done&quot; &quot;down&quot;....i'm-an-idiot  well, stupid is as stupid does....\n",
            "Score: -7.062 | Real: POS | Pred: NEG ✗\n",
            "\n",
            "Texto: 'little exam from English' tomorrow  Little ?!! i don't think so !!!!  omg i hate our teachers, so stupid ideas ! ...\n",
            "Score: -6.630 | Real: POS | Pred: NEG ✗\n",
            "\n",
            "Texto: damn.,,,i still dont know wat the poient of this thinig is...but hey oprah and the view people have it!!!  hahahaha....im SUPER down!!!!...\n",
            "Score: -6.481 | Real: POS | Pred: NEG ✗\n",
            "\n",
            "Texto: Argh! Stupid ppl in stupid loud cars wake me up! Rawr. Loud cars do not make you cool. Get ever it.. Going back to sleep now  night!...\n",
            "Score: -6.338 | Real: POS | Pred: NEG ✗\n",
            "\n",
            "Tabla — 5 FALSOS POSITIVOS\n"
          ]
        },
        {
          "data": {
            "text/html": [
              "<div>\n",
              "<style scoped>\n",
              "    .dataframe tbody tr th:only-of-type {\n",
              "        vertical-align: middle;\n",
              "    }\n",
              "\n",
              "    .dataframe tbody tr th {\n",
              "        vertical-align: top;\n",
              "    }\n",
              "\n",
              "    .dataframe thead th {\n",
              "        text-align: right;\n",
              "    }\n",
              "</style>\n",
              "<table border=\"1\" class=\"dataframe\">\n",
              "  <thead>\n",
              "    <tr style=\"text-align: right;\">\n",
              "      <th></th>\n",
              "      <th>text</th>\n",
              "      <th>sentiment_score</th>\n",
              "      <th>target</th>\n",
              "      <th>sentiment_pred</th>\n",
              "    </tr>\n",
              "  </thead>\n",
              "  <tbody>\n",
              "    <tr>\n",
              "      <th>0</th>\n",
              "      <td>Watching the parade from home  But Loving all ...</td>\n",
              "      <td>14.45000</td>\n",
              "      <td>0</td>\n",
              "      <td>4</td>\n",
              "    </tr>\n",
              "    <tr>\n",
              "      <th>1</th>\n",
              "      <td>I scraped my hand  but @toyayu tended to my wo...</td>\n",
              "      <td>9.24000</td>\n",
              "      <td>0</td>\n",
              "      <td>4</td>\n",
              "    </tr>\n",
              "    <tr>\n",
              "      <th>2</th>\n",
              "      <td>I scraped my hand  but @toyayu tended my wound...</td>\n",
              "      <td>9.24000</td>\n",
              "      <td>0</td>\n",
              "      <td>4</td>\n",
              "    </tr>\n",
              "    <tr>\n",
              "      <th>3</th>\n",
              "      <td>@selenagomez Selly i`m begging you. please rep...</td>\n",
              "      <td>9.17125</td>\n",
              "      <td>0</td>\n",
              "      <td>4</td>\n",
              "    </tr>\n",
              "    <tr>\n",
              "      <th>4</th>\n",
              "      <td>@selenagomez Selly i`m begging you. please rep...</td>\n",
              "      <td>9.17125</td>\n",
              "      <td>0</td>\n",
              "      <td>4</td>\n",
              "    </tr>\n",
              "  </tbody>\n",
              "</table>\n",
              "</div>"
            ],
            "text/plain": [
              "                                                text  sentiment_score  target  \\\n",
              "0  Watching the parade from home  But Loving all ...         14.45000       0   \n",
              "1  I scraped my hand  but @toyayu tended to my wo...          9.24000       0   \n",
              "2  I scraped my hand  but @toyayu tended my wound...          9.24000       0   \n",
              "3  @selenagomez Selly i`m begging you. please rep...          9.17125       0   \n",
              "4  @selenagomez Selly i`m begging you. please rep...          9.17125       0   \n",
              "\n",
              "   sentiment_pred  \n",
              "0               4  \n",
              "1               4  \n",
              "2               4  \n",
              "3               4  \n",
              "4               4  "
            ]
          },
          "metadata": {},
          "output_type": "display_data"
        },
        {
          "name": "stdout",
          "output_type": "stream",
          "text": [
            "Tabla — 5 FALSOS NEGATIVOS\n"
          ]
        },
        {
          "data": {
            "text/html": [
              "<div>\n",
              "<style scoped>\n",
              "    .dataframe tbody tr th:only-of-type {\n",
              "        vertical-align: middle;\n",
              "    }\n",
              "\n",
              "    .dataframe tbody tr th {\n",
              "        vertical-align: top;\n",
              "    }\n",
              "\n",
              "    .dataframe thead th {\n",
              "        text-align: right;\n",
              "    }\n",
              "</style>\n",
              "<table border=\"1\" class=\"dataframe\">\n",
              "  <thead>\n",
              "    <tr style=\"text-align: right;\">\n",
              "      <th></th>\n",
              "      <th>text</th>\n",
              "      <th>sentiment_score</th>\n",
              "      <th>target</th>\n",
              "      <th>sentiment_pred</th>\n",
              "    </tr>\n",
              "  </thead>\n",
              "  <tbody>\n",
              "    <tr>\n",
              "      <th>0</th>\n",
              "      <td>@ajayrochester DO IT DO IT DO IT DO IT DO IT D...</td>\n",
              "      <td>-10.00000</td>\n",
              "      <td>4</td>\n",
              "      <td>0</td>\n",
              "    </tr>\n",
              "    <tr>\n",
              "      <th>1</th>\n",
              "      <td>i keep having to sneeze...but don't. popcorn's...</td>\n",
              "      <td>-7.06250</td>\n",
              "      <td>4</td>\n",
              "      <td>0</td>\n",
              "    </tr>\n",
              "    <tr>\n",
              "      <th>2</th>\n",
              "      <td>'little exam from English' tomorrow  Little ?!...</td>\n",
              "      <td>-6.63000</td>\n",
              "      <td>4</td>\n",
              "      <td>0</td>\n",
              "    </tr>\n",
              "    <tr>\n",
              "      <th>3</th>\n",
              "      <td>damn.,,,i still dont know wat the poient of th...</td>\n",
              "      <td>-6.48125</td>\n",
              "      <td>4</td>\n",
              "      <td>0</td>\n",
              "    </tr>\n",
              "    <tr>\n",
              "      <th>4</th>\n",
              "      <td>Argh! Stupid ppl in stupid loud cars wake me u...</td>\n",
              "      <td>-6.33750</td>\n",
              "      <td>4</td>\n",
              "      <td>0</td>\n",
              "    </tr>\n",
              "  </tbody>\n",
              "</table>\n",
              "</div>"
            ],
            "text/plain": [
              "                                                text  sentiment_score  target  \\\n",
              "0  @ajayrochester DO IT DO IT DO IT DO IT DO IT D...        -10.00000       4   \n",
              "1  i keep having to sneeze...but don't. popcorn's...         -7.06250       4   \n",
              "2  'little exam from English' tomorrow  Little ?!...         -6.63000       4   \n",
              "3  damn.,,,i still dont know wat the poient of th...         -6.48125       4   \n",
              "4  Argh! Stupid ppl in stupid loud cars wake me u...         -6.33750       4   \n",
              "\n",
              "   sentiment_pred  \n",
              "0               0  \n",
              "1               0  \n",
              "2               0  \n",
              "3               0  \n",
              "4               0  "
            ]
          },
          "metadata": {},
          "output_type": "display_data"
        }
      ],
      "source": [
        "import numpy as np\n",
        "import pandas as pd\n",
        "from IPython.display import display\n",
        "\n",
        "if not ('tiene_target' in globals() and bool(tiene_target)):\n",
        "    print(\"No hay columna 'target'. Ejecuta esta celda sólo si existe `target` con valores {0,4}.\")\n",
        "elif 'sentiment_pred' not in df.columns or 'sentiment_score' not in df.columns:\n",
        "    print(\"Faltan columnas 'sentiment_pred' o 'sentiment_score'. Ejecuta las celdas de scoring/predicción antes.\")\n",
        "else:\n",
        "    # Máscaras de error\n",
        "    mask_fp = (df['target'] == 0) & (df['sentiment_pred'] == 4)  # Falsos Positivos\n",
        "    mask_fn = (df['target'] == 4) & (df['sentiment_pred'] == 0)  # Falsos Negativos\n",
        "\n",
        "    # Subconjuntos con columnas relevantes\n",
        "    cols = [text_col, 'sentiment_score', 'target', 'sentiment_pred']\n",
        "    ejemplos_fp = df.loc[mask_fp, cols].copy()\n",
        "    ejemplos_fn = df.loc[mask_fn, cols].copy()\n",
        "\n",
        "    # Distancia al umbral (si existe), para priorizar errores más \"claros\"\n",
        "    umbral = float(mejor_umbral) if 'mejor_umbral' in globals() else 0.0\n",
        "    ejemplos_fp['dist_umbral'] = (ejemplos_fp['sentiment_score'] - umbral).abs()\n",
        "    ejemplos_fn['dist_umbral'] = (ejemplos_fn['sentiment_score'] - umbral).abs()\n",
        "\n",
        "    # Selección de 5 casos (los de mayor distancia al umbral)\n",
        "    top_fp = ejemplos_fp.sort_values('dist_umbral', ascending=False).head(5)\n",
        "    top_fn = ejemplos_fn.sort_values('dist_umbral', ascending=False).head(5)\n",
        "\n",
        "    # --- SALIDA LEGIBLE (texto) ---\n",
        "    print(\"──────────── FALSOS POSITIVOS (Real NEG=0, Pred POS=4) ────────────\")\n",
        "    for _, row in top_fp.iterrows():\n",
        "        txt = str(row[text_col]).replace(\"\\n\", \" \")\n",
        "        print(f\"Texto: {txt[:200]}...\")\n",
        "        print(f\"Score: {row['sentiment_score']:.3f} | Real: NEG | Pred: POS ✗\\n\")\n",
        "\n",
        "    print(\"──────────── FALSOS NEGATIVOS (Real POS=4, Pred NEG=0) ────────────\")\n",
        "    for _, row in top_fn.iterrows():\n",
        "        txt = str(row[text_col]).replace(\"\\n\", \" \")\n",
        "        print(f\"Texto: {txt[:200]}...\")\n",
        "        print(f\"Score: {row['sentiment_score']:.3f} | Real: POS | Pred: NEG ✗\\n\")\n",
        "\n",
        "    # --- TABLAS (útiles para exportar/copiar) ---\n",
        "    print(\"Tabla — 5 FALSOS POSITIVOS\")\n",
        "    display(top_fp.drop(columns=['dist_umbral']).reset_index(drop=True))\n",
        "\n",
        "    print(\"Tabla — 5 FALSOS NEGATIVOS\")\n",
        "    display(top_fn.drop(columns=['dist_umbral']).reset_index(drop=True))\n"
      ]
    },
    {
      "cell_type": "markdown",
      "metadata": {},
      "source": [
        "## 16. Exportación a CSV"
      ]
    },
    {
      "cell_type": "code",
      "execution_count": 20,
      "metadata": {},
      "outputs": [
        {
          "name": "stdout",
          "output_type": "stream",
          "text": [
            "✓ Resultados exportados a: resultados_sentimientos_v2.csv (total=200,000)\n"
          ]
        }
      ],
      "source": [
        "cols = [text_col, \"sentiment_score\", \"sentiment_pred\"]\n",
        "if \"target\" in df.columns:\n",
        "    cols += [\"target\"]\n",
        "    if \"correcto\" in df.columns:\n",
        "        cols += [\"correcto\"]\n",
        "\n",
        "out_path = \"resultados_sentimientos_v2.csv\"\n",
        "df[cols].to_csv(out_path, index=False)\n",
        "print(f\"✓ Resultados exportados a: {out_path} (total={len(df):,})\")"
      ]
    },
    {
      "cell_type": "code",
      "execution_count": null,
      "id": "b8cd8941",
      "metadata": {},
      "outputs": [],
      "source": []
    }
  ],
  "metadata": {
    "kernelspec": {
      "display_name": "Python 3",
      "name": "python3"
    },
    "language_info": {
      "codemirror_mode": {
        "name": "ipython",
        "version": 3
      },
      "file_extension": ".py",
      "mimetype": "text/x-python",
      "name": "python",
      "nbconvert_exporter": "python",
      "pygments_lexer": "ipython3",
      "version": "3.10.18"
    }
  },
  "nbformat": 4,
  "nbformat_minor": 5
}
